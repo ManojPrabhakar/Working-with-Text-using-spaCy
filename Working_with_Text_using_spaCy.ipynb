{
  "cells": [
    {
      "cell_type": "markdown",
      "metadata": {
        "id": "jzaHS_vjxTUq"
      },
      "source": [
        "# Introduction to [spaCy](https://spacy.io/)"
      ]
    },
    {
      "cell_type": "markdown",
      "source": [
        "**--[Manoj Prabhakar Kannan Ravi](https://www.linkedin.com/in/manojprabhakar-kr/), Doctoral Candidate @ HPI**\n",
        "\n"
      ],
      "metadata": {
        "id": "TdYFfg6zuZ6D"
      }
    },
    {
      "cell_type": "markdown",
      "metadata": {
        "id": "g3hdj765xTUv"
      },
      "source": [
        "### How to install spaCy"
      ]
    },
    {
      "cell_type": "code",
      "source": [
        "!pip install spacy"
      ],
      "metadata": {
        "colab": {
          "base_uri": "https://localhost:8080/"
        },
        "id": "MtRPqdtr-K_V",
        "outputId": "24a41f6a-a656-43d8-a08c-1767c760b05c"
      },
      "execution_count": null,
      "outputs": [
        {
          "output_type": "stream",
          "name": "stdout",
          "text": [
            "Requirement already satisfied: spacy in /usr/local/lib/python3.7/dist-packages (2.2.4)\n",
            "Requirement already satisfied: numpy>=1.15.0 in /usr/local/lib/python3.7/dist-packages (from spacy) (1.19.5)\n",
            "Requirement already satisfied: plac<1.2.0,>=0.9.6 in /usr/local/lib/python3.7/dist-packages (from spacy) (1.1.3)\n",
            "Requirement already satisfied: requests<3.0.0,>=2.13.0 in /usr/local/lib/python3.7/dist-packages (from spacy) (2.23.0)\n",
            "Requirement already satisfied: thinc==7.4.0 in /usr/local/lib/python3.7/dist-packages (from spacy) (7.4.0)\n",
            "Requirement already satisfied: catalogue<1.1.0,>=0.0.7 in /usr/local/lib/python3.7/dist-packages (from spacy) (1.0.0)\n",
            "Requirement already satisfied: preshed<3.1.0,>=3.0.2 in /usr/local/lib/python3.7/dist-packages (from spacy) (3.0.6)\n",
            "Requirement already satisfied: blis<0.5.0,>=0.4.0 in /usr/local/lib/python3.7/dist-packages (from spacy) (0.4.1)\n",
            "Requirement already satisfied: wasabi<1.1.0,>=0.4.0 in /usr/local/lib/python3.7/dist-packages (from spacy) (0.8.2)\n",
            "Requirement already satisfied: setuptools in /usr/local/lib/python3.7/dist-packages (from spacy) (57.4.0)\n",
            "Requirement already satisfied: murmurhash<1.1.0,>=0.28.0 in /usr/local/lib/python3.7/dist-packages (from spacy) (1.0.6)\n",
            "Requirement already satisfied: tqdm<5.0.0,>=4.38.0 in /usr/local/lib/python3.7/dist-packages (from spacy) (4.62.3)\n",
            "Requirement already satisfied: cymem<2.1.0,>=2.0.2 in /usr/local/lib/python3.7/dist-packages (from spacy) (2.0.6)\n",
            "Requirement already satisfied: srsly<1.1.0,>=1.0.2 in /usr/local/lib/python3.7/dist-packages (from spacy) (1.0.5)\n",
            "Requirement already satisfied: importlib-metadata>=0.20 in /usr/local/lib/python3.7/dist-packages (from catalogue<1.1.0,>=0.0.7->spacy) (4.8.2)\n",
            "Requirement already satisfied: zipp>=0.5 in /usr/local/lib/python3.7/dist-packages (from importlib-metadata>=0.20->catalogue<1.1.0,>=0.0.7->spacy) (3.6.0)\n",
            "Requirement already satisfied: typing-extensions>=3.6.4 in /usr/local/lib/python3.7/dist-packages (from importlib-metadata>=0.20->catalogue<1.1.0,>=0.0.7->spacy) (3.10.0.2)\n",
            "Requirement already satisfied: certifi>=2017.4.17 in /usr/local/lib/python3.7/dist-packages (from requests<3.0.0,>=2.13.0->spacy) (2021.10.8)\n",
            "Requirement already satisfied: chardet<4,>=3.0.2 in /usr/local/lib/python3.7/dist-packages (from requests<3.0.0,>=2.13.0->spacy) (3.0.4)\n",
            "Requirement already satisfied: idna<3,>=2.5 in /usr/local/lib/python3.7/dist-packages (from requests<3.0.0,>=2.13.0->spacy) (2.10)\n",
            "Requirement already satisfied: urllib3!=1.25.0,!=1.25.1,<1.26,>=1.21.1 in /usr/local/lib/python3.7/dist-packages (from requests<3.0.0,>=2.13.0->spacy) (1.24.3)\n"
          ]
        }
      ]
    },
    {
      "cell_type": "code",
      "source": [
        "!python -m spacy download en_core_web_sm"
      ],
      "metadata": {
        "colab": {
          "base_uri": "https://localhost:8080/"
        },
        "id": "dtYLlNxn-QwV",
        "outputId": "4cda9a6e-28e1-4e58-a13c-e77a383b4b40"
      },
      "execution_count": null,
      "outputs": [
        {
          "output_type": "stream",
          "name": "stdout",
          "text": [
            "Collecting en_core_web_sm==2.2.5\n",
            "  Downloading https://github.com/explosion/spacy-models/releases/download/en_core_web_sm-2.2.5/en_core_web_sm-2.2.5.tar.gz (12.0 MB)\n",
            "\u001b[K     |████████████████████████████████| 12.0 MB 5.2 MB/s \n",
            "\u001b[?25hRequirement already satisfied: spacy>=2.2.2 in /usr/local/lib/python3.7/dist-packages (from en_core_web_sm==2.2.5) (2.2.4)\n",
            "Requirement already satisfied: requests<3.0.0,>=2.13.0 in /usr/local/lib/python3.7/dist-packages (from spacy>=2.2.2->en_core_web_sm==2.2.5) (2.23.0)\n",
            "Requirement already satisfied: preshed<3.1.0,>=3.0.2 in /usr/local/lib/python3.7/dist-packages (from spacy>=2.2.2->en_core_web_sm==2.2.5) (3.0.6)\n",
            "Requirement already satisfied: blis<0.5.0,>=0.4.0 in /usr/local/lib/python3.7/dist-packages (from spacy>=2.2.2->en_core_web_sm==2.2.5) (0.4.1)\n",
            "Requirement already satisfied: catalogue<1.1.0,>=0.0.7 in /usr/local/lib/python3.7/dist-packages (from spacy>=2.2.2->en_core_web_sm==2.2.5) (1.0.0)\n",
            "Requirement already satisfied: wasabi<1.1.0,>=0.4.0 in /usr/local/lib/python3.7/dist-packages (from spacy>=2.2.2->en_core_web_sm==2.2.5) (0.8.2)\n",
            "Requirement already satisfied: murmurhash<1.1.0,>=0.28.0 in /usr/local/lib/python3.7/dist-packages (from spacy>=2.2.2->en_core_web_sm==2.2.5) (1.0.6)\n",
            "Requirement already satisfied: numpy>=1.15.0 in /usr/local/lib/python3.7/dist-packages (from spacy>=2.2.2->en_core_web_sm==2.2.5) (1.19.5)\n",
            "Requirement already satisfied: tqdm<5.0.0,>=4.38.0 in /usr/local/lib/python3.7/dist-packages (from spacy>=2.2.2->en_core_web_sm==2.2.5) (4.62.3)\n",
            "Requirement already satisfied: setuptools in /usr/local/lib/python3.7/dist-packages (from spacy>=2.2.2->en_core_web_sm==2.2.5) (57.4.0)\n",
            "Requirement already satisfied: plac<1.2.0,>=0.9.6 in /usr/local/lib/python3.7/dist-packages (from spacy>=2.2.2->en_core_web_sm==2.2.5) (1.1.3)\n",
            "Requirement already satisfied: thinc==7.4.0 in /usr/local/lib/python3.7/dist-packages (from spacy>=2.2.2->en_core_web_sm==2.2.5) (7.4.0)\n",
            "Requirement already satisfied: srsly<1.1.0,>=1.0.2 in /usr/local/lib/python3.7/dist-packages (from spacy>=2.2.2->en_core_web_sm==2.2.5) (1.0.5)\n",
            "Requirement already satisfied: cymem<2.1.0,>=2.0.2 in /usr/local/lib/python3.7/dist-packages (from spacy>=2.2.2->en_core_web_sm==2.2.5) (2.0.6)\n",
            "Requirement already satisfied: importlib-metadata>=0.20 in /usr/local/lib/python3.7/dist-packages (from catalogue<1.1.0,>=0.0.7->spacy>=2.2.2->en_core_web_sm==2.2.5) (4.8.2)\n",
            "Requirement already satisfied: typing-extensions>=3.6.4 in /usr/local/lib/python3.7/dist-packages (from importlib-metadata>=0.20->catalogue<1.1.0,>=0.0.7->spacy>=2.2.2->en_core_web_sm==2.2.5) (3.10.0.2)\n",
            "Requirement already satisfied: zipp>=0.5 in /usr/local/lib/python3.7/dist-packages (from importlib-metadata>=0.20->catalogue<1.1.0,>=0.0.7->spacy>=2.2.2->en_core_web_sm==2.2.5) (3.6.0)\n",
            "Requirement already satisfied: chardet<4,>=3.0.2 in /usr/local/lib/python3.7/dist-packages (from requests<3.0.0,>=2.13.0->spacy>=2.2.2->en_core_web_sm==2.2.5) (3.0.4)\n",
            "Requirement already satisfied: urllib3!=1.25.0,!=1.25.1,<1.26,>=1.21.1 in /usr/local/lib/python3.7/dist-packages (from requests<3.0.0,>=2.13.0->spacy>=2.2.2->en_core_web_sm==2.2.5) (1.24.3)\n",
            "Requirement already satisfied: certifi>=2017.4.17 in /usr/local/lib/python3.7/dist-packages (from requests<3.0.0,>=2.13.0->spacy>=2.2.2->en_core_web_sm==2.2.5) (2021.10.8)\n",
            "Requirement already satisfied: idna<3,>=2.5 in /usr/local/lib/python3.7/dist-packages (from requests<3.0.0,>=2.13.0->spacy>=2.2.2->en_core_web_sm==2.2.5) (2.10)\n",
            "\u001b[38;5;2m✔ Download and installation successful\u001b[0m\n",
            "You can now load the model via spacy.load('en_core_web_sm')\n"
          ]
        }
      ]
    },
    {
      "cell_type": "markdown",
      "metadata": {
        "id": "krzmYbfHxTUx"
      },
      "source": [
        "### Load the NLP pipeline:"
      ]
    },
    {
      "cell_type": "code",
      "execution_count": null,
      "metadata": {
        "id": "iKUiO-x6xTUw"
      },
      "outputs": [],
      "source": [
        "import spacy"
      ]
    },
    {
      "cell_type": "code",
      "execution_count": null,
      "metadata": {
        "id": "EKTb2JU0xTUy"
      },
      "outputs": [],
      "source": [
        "nlp = spacy.load(\"en_core_web_sm\")"
      ]
    },
    {
      "cell_type": "markdown",
      "source": [
        "## Processing Pipeline"
      ],
      "metadata": {
        "id": "S2IQ-I9X4kHI"
      }
    },
    {
      "cell_type": "markdown",
      "source": [
        "![spacy-pipeline.PNG](data:image/png;base64,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)\n",
        "\n",
        "Source : https://spacy.io/usage/processing-pipelines"
      ],
      "metadata": {
        "id": "C9_uXyHj3iS6"
      }
    },
    {
      "cell_type": "code",
      "source": [
        "text = \"Apple is looking at buying U.K. startup for $1 billion!\""
      ],
      "metadata": {
        "id": "eMKGFRVD6KKv"
      },
      "execution_count": null,
      "outputs": []
    },
    {
      "cell_type": "code",
      "source": [
        "doc = nlp(text)"
      ],
      "metadata": {
        "id": "K8t6R1Yy_bz1"
      },
      "execution_count": null,
      "outputs": []
    },
    {
      "cell_type": "code",
      "source": [
        "nlp.pipe_names"
      ],
      "metadata": {
        "colab": {
          "base_uri": "https://localhost:8080/"
        },
        "id": "ZimfPaE3fp42",
        "outputId": "ff27484a-a83d-4c40-ff10-41b3e9a30581"
      },
      "execution_count": null,
      "outputs": [
        {
          "output_type": "execute_result",
          "data": {
            "text/plain": [
              "['tagger', 'parser', 'ner']"
            ]
          },
          "metadata": {},
          "execution_count": 7
        }
      ]
    },
    {
      "cell_type": "markdown",
      "metadata": {
        "id": "kQKOuXVcWt1h"
      },
      "source": [
        "### Tokenization"
      ]
    },
    {
      "cell_type": "code",
      "metadata": {
        "colab": {
          "base_uri": "https://localhost:8080/"
        },
        "id": "l0sx9XMGWt1h",
        "outputId": "713d0e68-dc9f-49cc-c600-5e67c2a2a4a9"
      },
      "source": [
        "print(\"-- Using split(' ')\")\n",
        "print(text.split(' '))"
      ],
      "execution_count": null,
      "outputs": [
        {
          "output_type": "stream",
          "name": "stdout",
          "text": [
            "-- Using split(' ')\n",
            "['Apple', 'is', 'looking', 'at', 'buying', 'U.K.', 'startup', 'for', '$1', 'billion!']\n"
          ]
        }
      ]
    },
    {
      "cell_type": "code",
      "metadata": {
        "colab": {
          "base_uri": "https://localhost:8080/"
        },
        "id": "rm6N6lohWt1i",
        "outputId": "f8136797-b896-4930-c7ee-5f5f064908bf"
      },
      "source": [
        "tokens = []\n",
        "for token in doc:\n",
        "    tokens.append(token)\n",
        "\n",
        "print(tokens)"
      ],
      "execution_count": null,
      "outputs": [
        {
          "output_type": "stream",
          "name": "stdout",
          "text": [
            "[Apple, is, looking, at, buying, U.K., startup, for, $, 1, billion, !]\n"
          ]
        }
      ]
    },
    {
      "cell_type": "markdown",
      "metadata": {
        "id": "mDodwG_IWt1k"
      },
      "source": [
        "### Part-of-speech (POS) "
      ]
    },
    {
      "cell_type": "code",
      "source": [
        "for token in doc:\n",
        "    print(\"\\t\".join( (token.text, \"-->\", token.lemma_, token.pos_, token.tag_,\n",
        "          token.shape_, str(token.is_alpha), str(token.is_stop))))"
      ],
      "metadata": {
        "colab": {
          "base_uri": "https://localhost:8080/"
        },
        "id": "o3ByWf5vE5AL",
        "outputId": "114bed34-b785-4e99-ec51-dc1e4e9a259e"
      },
      "execution_count": null,
      "outputs": [
        {
          "output_type": "stream",
          "name": "stdout",
          "text": [
            "Apple\t-->\tApple\tPROPN\tNNP\tXxxxx\tTrue\tFalse\n",
            "is\t-->\tbe\tAUX\tVBZ\txx\tTrue\tTrue\n",
            "looking\t-->\tlook\tVERB\tVBG\txxxx\tTrue\tFalse\n",
            "at\t-->\tat\tADP\tIN\txx\tTrue\tTrue\n",
            "buying\t-->\tbuy\tVERB\tVBG\txxxx\tTrue\tFalse\n",
            "U.K.\t-->\tU.K.\tPROPN\tNNP\tX.X.\tFalse\tFalse\n",
            "startup\t-->\tstartup\tNOUN\tNN\txxxx\tTrue\tFalse\n",
            "for\t-->\tfor\tADP\tIN\txxx\tTrue\tTrue\n",
            "$\t-->\t$\tSYM\t$\t$\tFalse\tFalse\n",
            "1\t-->\t1\tNUM\tCD\td\tFalse\tFalse\n",
            "billion\t-->\tbillion\tNUM\tCD\txxxx\tTrue\tFalse\n",
            "!\t-->\t!\tPUNCT\t.\t!\tFalse\tFalse\n"
          ]
        }
      ]
    },
    {
      "cell_type": "code",
      "source": [
        "spacy.explain(\"NNP\")"
      ],
      "metadata": {
        "colab": {
          "base_uri": "https://localhost:8080/",
          "height": 35
        },
        "id": "CCow1cujgUp3",
        "outputId": "876c604d-f08c-4b50-b1ca-4afb281d3d39"
      },
      "execution_count": null,
      "outputs": [
        {
          "output_type": "execute_result",
          "data": {
            "application/vnd.google.colaboratory.intrinsic+json": {
              "type": "string"
            },
            "text/plain": [
              "'noun, proper singular'"
            ]
          },
          "metadata": {},
          "execution_count": 15
        }
      ]
    },
    {
      "cell_type": "markdown",
      "metadata": {
        "id": "TssYpexgxTU0"
      },
      "source": [
        "### Dependency Parsing"
      ]
    },
    {
      "cell_type": "code",
      "execution_count": null,
      "metadata": {
        "colab": {
          "base_uri": "https://localhost:8080/"
        },
        "id": "vO0dVM7JxTU1",
        "outputId": "088c23a3-a2a7-4a03-e098-52490c7ade4d"
      },
      "outputs": [
        {
          "output_type": "stream",
          "name": "stdout",
          "text": [
            "Apple --> nsubj looking VERB []\n",
            "is --> aux looking VERB []\n",
            "looking --> ROOT looking VERB [Apple, is, at, !]\n",
            "at --> prep looking VERB [buying]\n",
            "buying --> pcomp at ADP [startup, for]\n",
            "U.K. --> compound startup NOUN []\n",
            "startup --> dobj buying VERB [U.K.]\n",
            "for --> prep buying VERB [billion]\n",
            "$ --> quantmod billion NUM []\n",
            "1 --> compound billion NUM []\n",
            "billion --> pobj for ADP [$, 1]\n",
            "! --> punct looking VERB []\n"
          ]
        }
      ],
      "source": [
        "for token in doc:\n",
        "    print(token.text, \"-->\", token.dep_, token.head.text, token.head.pos_,\n",
        "            [child for child in token.children])"
      ]
    },
    {
      "cell_type": "code",
      "source": [
        "spacy.explain(\"nsubj\")"
      ],
      "metadata": {
        "colab": {
          "base_uri": "https://localhost:8080/",
          "height": 35
        },
        "id": "gtZC9o9ggitC",
        "outputId": "c3d81a2f-4170-4015-c36f-eb9ac666ada3"
      },
      "execution_count": null,
      "outputs": [
        {
          "output_type": "execute_result",
          "data": {
            "application/vnd.google.colaboratory.intrinsic+json": {
              "type": "string"
            },
            "text/plain": [
              "'nominal subject'"
            ]
          },
          "metadata": {},
          "execution_count": 16
        }
      ]
    },
    {
      "cell_type": "markdown",
      "metadata": {
        "id": "jZlydOayWt1i"
      },
      "source": [
        "### Named Entity Recognition (NER)"
      ]
    },
    {
      "cell_type": "code",
      "metadata": {
        "colab": {
          "base_uri": "https://localhost:8080/"
        },
        "id": "FyPItbFPWt1j",
        "outputId": "addf6657-678f-4cbb-bb23-018bb37bc903"
      },
      "source": [
        "for ent in doc.ents:\n",
        "    print(ent.text, ent.start_char, ent.end_char, ent.label_)"
      ],
      "execution_count": null,
      "outputs": [
        {
          "output_type": "stream",
          "name": "stdout",
          "text": [
            "Apple 0 5 ORG\n",
            "U.K. 27 31 GPE\n",
            "$1 billion 44 54 MONEY\n"
          ]
        }
      ]
    },
    {
      "cell_type": "code",
      "source": [
        "spacy.explain(\"GPE\")"
      ],
      "metadata": {
        "colab": {
          "base_uri": "https://localhost:8080/",
          "height": 35
        },
        "id": "aHOxeuT-gr71",
        "outputId": "2786aa4d-7da5-4728-fe06-5a411c141b5c"
      },
      "execution_count": null,
      "outputs": [
        {
          "output_type": "execute_result",
          "data": {
            "application/vnd.google.colaboratory.intrinsic+json": {
              "type": "string"
            },
            "text/plain": [
              "'Countries, cities, states'"
            ]
          },
          "metadata": {},
          "execution_count": 15
        }
      ]
    },
    {
      "cell_type": "markdown",
      "metadata": {
        "id": "ZmPz56acxTU_"
      },
      "source": [
        "## Using the Visualizer"
      ]
    },
    {
      "cell_type": "code",
      "execution_count": null,
      "metadata": {
        "id": "HnkszrsNxTVA"
      },
      "outputs": [],
      "source": [
        "from spacy import displacy"
      ]
    },
    {
      "cell_type": "markdown",
      "metadata": {
        "id": "p3M5hO9ixTVA"
      },
      "source": [
        "The Dependency Parse tree can be visualized by serve and can be seen using the URL [http://localhost:5000/](http://localhost:5000/)."
      ]
    },
    {
      "cell_type": "code",
      "execution_count": null,
      "metadata": {
        "scrolled": true,
        "id": "ZXS7bO4axTVA"
      },
      "outputs": [],
      "source": [
        "#displacy.serve(doc, style='dep')"
      ]
    },
    {
      "cell_type": "markdown",
      "metadata": {
        "id": "-QHNciP-xTVA"
      },
      "source": [
        "We can use render to display the visualization within the same Jupyter Notebook:"
      ]
    },
    {
      "cell_type": "code",
      "execution_count": null,
      "metadata": {
        "colab": {
          "base_uri": "https://localhost:8080/",
          "height": 403
        },
        "id": "tHcDJ-HhxTVB",
        "outputId": "c25c11c1-41c6-4f5e-849f-e27b9151f7f3"
      },
      "outputs": [
        {
          "output_type": "display_data",
          "data": {
            "text/html": [
              "<span class=\"tex2jax_ignore\"><svg xmlns=\"http://www.w3.org/2000/svg\" xmlns:xlink=\"http://www.w3.org/1999/xlink\" xml:lang=\"en\" id=\"bfc0d82dd57a458bbe02c98458921e14-0\" class=\"displacy\" width=\"1700\" height=\"362.0\" direction=\"ltr\" style=\"max-width: none; height: 362.0px; color: #000000; background: #ffffff; font-family: Arial; direction: ltr\">\n",
              "<text class=\"displacy-token\" fill=\"currentColor\" text-anchor=\"middle\" y=\"272.0\">\n",
              "    <tspan class=\"displacy-word\" fill=\"currentColor\" x=\"50\">Apple</tspan>\n",
              "    <tspan class=\"displacy-tag\" dy=\"2em\" fill=\"currentColor\" x=\"50\">PROPN</tspan>\n",
              "</text>\n",
              "\n",
              "<text class=\"displacy-token\" fill=\"currentColor\" text-anchor=\"middle\" y=\"272.0\">\n",
              "    <tspan class=\"displacy-word\" fill=\"currentColor\" x=\"200\">is</tspan>\n",
              "    <tspan class=\"displacy-tag\" dy=\"2em\" fill=\"currentColor\" x=\"200\">AUX</tspan>\n",
              "</text>\n",
              "\n",
              "<text class=\"displacy-token\" fill=\"currentColor\" text-anchor=\"middle\" y=\"272.0\">\n",
              "    <tspan class=\"displacy-word\" fill=\"currentColor\" x=\"350\">looking</tspan>\n",
              "    <tspan class=\"displacy-tag\" dy=\"2em\" fill=\"currentColor\" x=\"350\">VERB</tspan>\n",
              "</text>\n",
              "\n",
              "<text class=\"displacy-token\" fill=\"currentColor\" text-anchor=\"middle\" y=\"272.0\">\n",
              "    <tspan class=\"displacy-word\" fill=\"currentColor\" x=\"500\">at</tspan>\n",
              "    <tspan class=\"displacy-tag\" dy=\"2em\" fill=\"currentColor\" x=\"500\">ADP</tspan>\n",
              "</text>\n",
              "\n",
              "<text class=\"displacy-token\" fill=\"currentColor\" text-anchor=\"middle\" y=\"272.0\">\n",
              "    <tspan class=\"displacy-word\" fill=\"currentColor\" x=\"650\">buying</tspan>\n",
              "    <tspan class=\"displacy-tag\" dy=\"2em\" fill=\"currentColor\" x=\"650\">VERB</tspan>\n",
              "</text>\n",
              "\n",
              "<text class=\"displacy-token\" fill=\"currentColor\" text-anchor=\"middle\" y=\"272.0\">\n",
              "    <tspan class=\"displacy-word\" fill=\"currentColor\" x=\"800\">U.K.</tspan>\n",
              "    <tspan class=\"displacy-tag\" dy=\"2em\" fill=\"currentColor\" x=\"800\">PROPN</tspan>\n",
              "</text>\n",
              "\n",
              "<text class=\"displacy-token\" fill=\"currentColor\" text-anchor=\"middle\" y=\"272.0\">\n",
              "    <tspan class=\"displacy-word\" fill=\"currentColor\" x=\"950\">startup</tspan>\n",
              "    <tspan class=\"displacy-tag\" dy=\"2em\" fill=\"currentColor\" x=\"950\">NOUN</tspan>\n",
              "</text>\n",
              "\n",
              "<text class=\"displacy-token\" fill=\"currentColor\" text-anchor=\"middle\" y=\"272.0\">\n",
              "    <tspan class=\"displacy-word\" fill=\"currentColor\" x=\"1100\">for</tspan>\n",
              "    <tspan class=\"displacy-tag\" dy=\"2em\" fill=\"currentColor\" x=\"1100\">ADP</tspan>\n",
              "</text>\n",
              "\n",
              "<text class=\"displacy-token\" fill=\"currentColor\" text-anchor=\"middle\" y=\"272.0\">\n",
              "    <tspan class=\"displacy-word\" fill=\"currentColor\" x=\"1250\">$</tspan>\n",
              "    <tspan class=\"displacy-tag\" dy=\"2em\" fill=\"currentColor\" x=\"1250\">SYM</tspan>\n",
              "</text>\n",
              "\n",
              "<text class=\"displacy-token\" fill=\"currentColor\" text-anchor=\"middle\" y=\"272.0\">\n",
              "    <tspan class=\"displacy-word\" fill=\"currentColor\" x=\"1400\">1</tspan>\n",
              "    <tspan class=\"displacy-tag\" dy=\"2em\" fill=\"currentColor\" x=\"1400\">NUM</tspan>\n",
              "</text>\n",
              "\n",
              "<text class=\"displacy-token\" fill=\"currentColor\" text-anchor=\"middle\" y=\"272.0\">\n",
              "    <tspan class=\"displacy-word\" fill=\"currentColor\" x=\"1550\">billion!</tspan>\n",
              "    <tspan class=\"displacy-tag\" dy=\"2em\" fill=\"currentColor\" x=\"1550\">NUM</tspan>\n",
              "</text>\n",
              "\n",
              "<g class=\"displacy-arrow\">\n",
              "    <path class=\"displacy-arc\" id=\"arrow-bfc0d82dd57a458bbe02c98458921e14-0-0\" stroke-width=\"2px\" d=\"M70,227.0 C70,77.0 345.0,77.0 345.0,227.0\" fill=\"none\" stroke=\"currentColor\"/>\n",
              "    <text dy=\"1.25em\" style=\"font-size: 0.8em; letter-spacing: 1px\">\n",
              "        <textPath xlink:href=\"#arrow-bfc0d82dd57a458bbe02c98458921e14-0-0\" class=\"displacy-label\" startOffset=\"50%\" side=\"left\" fill=\"currentColor\" text-anchor=\"middle\">nsubj</textPath>\n",
              "    </text>\n",
              "    <path class=\"displacy-arrowhead\" d=\"M70,229.0 L62,217.0 78,217.0\" fill=\"currentColor\"/>\n",
              "</g>\n",
              "\n",
              "<g class=\"displacy-arrow\">\n",
              "    <path class=\"displacy-arc\" id=\"arrow-bfc0d82dd57a458bbe02c98458921e14-0-1\" stroke-width=\"2px\" d=\"M220,227.0 C220,152.0 340.0,152.0 340.0,227.0\" fill=\"none\" stroke=\"currentColor\"/>\n",
              "    <text dy=\"1.25em\" style=\"font-size: 0.8em; letter-spacing: 1px\">\n",
              "        <textPath xlink:href=\"#arrow-bfc0d82dd57a458bbe02c98458921e14-0-1\" class=\"displacy-label\" startOffset=\"50%\" side=\"left\" fill=\"currentColor\" text-anchor=\"middle\">aux</textPath>\n",
              "    </text>\n",
              "    <path class=\"displacy-arrowhead\" d=\"M220,229.0 L212,217.0 228,217.0\" fill=\"currentColor\"/>\n",
              "</g>\n",
              "\n",
              "<g class=\"displacy-arrow\">\n",
              "    <path class=\"displacy-arc\" id=\"arrow-bfc0d82dd57a458bbe02c98458921e14-0-2\" stroke-width=\"2px\" d=\"M370,227.0 C370,152.0 490.0,152.0 490.0,227.0\" fill=\"none\" stroke=\"currentColor\"/>\n",
              "    <text dy=\"1.25em\" style=\"font-size: 0.8em; letter-spacing: 1px\">\n",
              "        <textPath xlink:href=\"#arrow-bfc0d82dd57a458bbe02c98458921e14-0-2\" class=\"displacy-label\" startOffset=\"50%\" side=\"left\" fill=\"currentColor\" text-anchor=\"middle\">prep</textPath>\n",
              "    </text>\n",
              "    <path class=\"displacy-arrowhead\" d=\"M490.0,229.0 L498.0,217.0 482.0,217.0\" fill=\"currentColor\"/>\n",
              "</g>\n",
              "\n",
              "<g class=\"displacy-arrow\">\n",
              "    <path class=\"displacy-arc\" id=\"arrow-bfc0d82dd57a458bbe02c98458921e14-0-3\" stroke-width=\"2px\" d=\"M520,227.0 C520,152.0 640.0,152.0 640.0,227.0\" fill=\"none\" stroke=\"currentColor\"/>\n",
              "    <text dy=\"1.25em\" style=\"font-size: 0.8em; letter-spacing: 1px\">\n",
              "        <textPath xlink:href=\"#arrow-bfc0d82dd57a458bbe02c98458921e14-0-3\" class=\"displacy-label\" startOffset=\"50%\" side=\"left\" fill=\"currentColor\" text-anchor=\"middle\">pcomp</textPath>\n",
              "    </text>\n",
              "    <path class=\"displacy-arrowhead\" d=\"M640.0,229.0 L648.0,217.0 632.0,217.0\" fill=\"currentColor\"/>\n",
              "</g>\n",
              "\n",
              "<g class=\"displacy-arrow\">\n",
              "    <path class=\"displacy-arc\" id=\"arrow-bfc0d82dd57a458bbe02c98458921e14-0-4\" stroke-width=\"2px\" d=\"M820,227.0 C820,152.0 940.0,152.0 940.0,227.0\" fill=\"none\" stroke=\"currentColor\"/>\n",
              "    <text dy=\"1.25em\" style=\"font-size: 0.8em; letter-spacing: 1px\">\n",
              "        <textPath xlink:href=\"#arrow-bfc0d82dd57a458bbe02c98458921e14-0-4\" class=\"displacy-label\" startOffset=\"50%\" side=\"left\" fill=\"currentColor\" text-anchor=\"middle\">compound</textPath>\n",
              "    </text>\n",
              "    <path class=\"displacy-arrowhead\" d=\"M820,229.0 L812,217.0 828,217.0\" fill=\"currentColor\"/>\n",
              "</g>\n",
              "\n",
              "<g class=\"displacy-arrow\">\n",
              "    <path class=\"displacy-arc\" id=\"arrow-bfc0d82dd57a458bbe02c98458921e14-0-5\" stroke-width=\"2px\" d=\"M670,227.0 C670,77.0 945.0,77.0 945.0,227.0\" fill=\"none\" stroke=\"currentColor\"/>\n",
              "    <text dy=\"1.25em\" style=\"font-size: 0.8em; letter-spacing: 1px\">\n",
              "        <textPath xlink:href=\"#arrow-bfc0d82dd57a458bbe02c98458921e14-0-5\" class=\"displacy-label\" startOffset=\"50%\" side=\"left\" fill=\"currentColor\" text-anchor=\"middle\">dobj</textPath>\n",
              "    </text>\n",
              "    <path class=\"displacy-arrowhead\" d=\"M945.0,229.0 L953.0,217.0 937.0,217.0\" fill=\"currentColor\"/>\n",
              "</g>\n",
              "\n",
              "<g class=\"displacy-arrow\">\n",
              "    <path class=\"displacy-arc\" id=\"arrow-bfc0d82dd57a458bbe02c98458921e14-0-6\" stroke-width=\"2px\" d=\"M670,227.0 C670,2.0 1100.0,2.0 1100.0,227.0\" fill=\"none\" stroke=\"currentColor\"/>\n",
              "    <text dy=\"1.25em\" style=\"font-size: 0.8em; letter-spacing: 1px\">\n",
              "        <textPath xlink:href=\"#arrow-bfc0d82dd57a458bbe02c98458921e14-0-6\" class=\"displacy-label\" startOffset=\"50%\" side=\"left\" fill=\"currentColor\" text-anchor=\"middle\">prep</textPath>\n",
              "    </text>\n",
              "    <path class=\"displacy-arrowhead\" d=\"M1100.0,229.0 L1108.0,217.0 1092.0,217.0\" fill=\"currentColor\"/>\n",
              "</g>\n",
              "\n",
              "<g class=\"displacy-arrow\">\n",
              "    <path class=\"displacy-arc\" id=\"arrow-bfc0d82dd57a458bbe02c98458921e14-0-7\" stroke-width=\"2px\" d=\"M1270,227.0 C1270,77.0 1545.0,77.0 1545.0,227.0\" fill=\"none\" stroke=\"currentColor\"/>\n",
              "    <text dy=\"1.25em\" style=\"font-size: 0.8em; letter-spacing: 1px\">\n",
              "        <textPath xlink:href=\"#arrow-bfc0d82dd57a458bbe02c98458921e14-0-7\" class=\"displacy-label\" startOffset=\"50%\" side=\"left\" fill=\"currentColor\" text-anchor=\"middle\">quantmod</textPath>\n",
              "    </text>\n",
              "    <path class=\"displacy-arrowhead\" d=\"M1270,229.0 L1262,217.0 1278,217.0\" fill=\"currentColor\"/>\n",
              "</g>\n",
              "\n",
              "<g class=\"displacy-arrow\">\n",
              "    <path class=\"displacy-arc\" id=\"arrow-bfc0d82dd57a458bbe02c98458921e14-0-8\" stroke-width=\"2px\" d=\"M1420,227.0 C1420,152.0 1540.0,152.0 1540.0,227.0\" fill=\"none\" stroke=\"currentColor\"/>\n",
              "    <text dy=\"1.25em\" style=\"font-size: 0.8em; letter-spacing: 1px\">\n",
              "        <textPath xlink:href=\"#arrow-bfc0d82dd57a458bbe02c98458921e14-0-8\" class=\"displacy-label\" startOffset=\"50%\" side=\"left\" fill=\"currentColor\" text-anchor=\"middle\">compound</textPath>\n",
              "    </text>\n",
              "    <path class=\"displacy-arrowhead\" d=\"M1420,229.0 L1412,217.0 1428,217.0\" fill=\"currentColor\"/>\n",
              "</g>\n",
              "\n",
              "<g class=\"displacy-arrow\">\n",
              "    <path class=\"displacy-arc\" id=\"arrow-bfc0d82dd57a458bbe02c98458921e14-0-9\" stroke-width=\"2px\" d=\"M1120,227.0 C1120,2.0 1550.0,2.0 1550.0,227.0\" fill=\"none\" stroke=\"currentColor\"/>\n",
              "    <text dy=\"1.25em\" style=\"font-size: 0.8em; letter-spacing: 1px\">\n",
              "        <textPath xlink:href=\"#arrow-bfc0d82dd57a458bbe02c98458921e14-0-9\" class=\"displacy-label\" startOffset=\"50%\" side=\"left\" fill=\"currentColor\" text-anchor=\"middle\">pobj</textPath>\n",
              "    </text>\n",
              "    <path class=\"displacy-arrowhead\" d=\"M1550.0,229.0 L1558.0,217.0 1542.0,217.0\" fill=\"currentColor\"/>\n",
              "</g>\n",
              "</svg></span>"
            ],
            "text/plain": [
              "<IPython.core.display.HTML object>"
            ]
          },
          "metadata": {}
        }
      ],
      "source": [
        "displacy.render(doc, style='dep', jupyter=True, options={\"distance\": 150})"
      ]
    },
    {
      "cell_type": "markdown",
      "metadata": {
        "id": "rZZ4pnkTxTVB"
      },
      "source": [
        "We can also visualize the named entity annotations."
      ]
    },
    {
      "cell_type": "code",
      "source": [
        "displacy.render(doc, style='ent', jupyter=True)"
      ],
      "metadata": {
        "colab": {
          "base_uri": "https://localhost:8080/",
          "height": 52
        },
        "id": "Y69x_pqTNuDT",
        "outputId": "a64a07c9-4b8c-4b17-ef05-5d6f46142f77"
      },
      "execution_count": null,
      "outputs": [
        {
          "output_type": "display_data",
          "data": {
            "text/html": [
              "<span class=\"tex2jax_ignore\"><div class=\"entities\" style=\"line-height: 2.5; direction: ltr\">\n",
              "<mark class=\"entity\" style=\"background: #7aecec; padding: 0.45em 0.6em; margin: 0 0.25em; line-height: 1; border-radius: 0.35em;\">\n",
              "    Apple\n",
              "    <span style=\"font-size: 0.8em; font-weight: bold; line-height: 1; border-radius: 0.35em; text-transform: uppercase; vertical-align: middle; margin-left: 0.5rem\">ORG</span>\n",
              "</mark>\n",
              " is looking at buying \n",
              "<mark class=\"entity\" style=\"background: #feca74; padding: 0.45em 0.6em; margin: 0 0.25em; line-height: 1; border-radius: 0.35em;\">\n",
              "    U.K.\n",
              "    <span style=\"font-size: 0.8em; font-weight: bold; line-height: 1; border-radius: 0.35em; text-transform: uppercase; vertical-align: middle; margin-left: 0.5rem\">GPE</span>\n",
              "</mark>\n",
              " startup for \n",
              "<mark class=\"entity\" style=\"background: #e4e7d2; padding: 0.45em 0.6em; margin: 0 0.25em; line-height: 1; border-radius: 0.35em;\">\n",
              "    $1 billion\n",
              "    <span style=\"font-size: 0.8em; font-weight: bold; line-height: 1; border-radius: 0.35em; text-transform: uppercase; vertical-align: middle; margin-left: 0.5rem\">MONEY</span>\n",
              "</mark>\n",
              "!</div></span>"
            ],
            "text/plain": [
              "<IPython.core.display.HTML object>"
            ]
          },
          "metadata": {}
        }
      ]
    },
    {
      "cell_type": "markdown",
      "source": [
        "## spaCy Matcher"
      ],
      "metadata": {
        "id": "nCWD6-H_jFfD"
      }
    },
    {
      "cell_type": "markdown",
      "source": [
        "Source : [blog](https://www.analyticsvidhya.com/blog/2020/03/spacy-tutorial-learn-natural-language-processing/)"
      ],
      "metadata": {
        "id": "qbE_kfFdFsK8"
      }
    },
    {
      "cell_type": "code",
      "source": [
        "# Import spaCy Matcher\n",
        "from spacy.matcher import Matcher\n",
        "\n",
        "# Initialize the matcher with the spaCy vocabulary\n",
        "matcher = Matcher(nlp.vocab)\n",
        "\n",
        "doc = nlp(\"Some people start their day with lemon water.\")\n",
        "\n",
        "# Define rule\n",
        "pattern = [{'TEXT': 'lemon'}, {'TEXT': 'water'}]\n",
        "\n",
        "# Add rule\n",
        "matcher.add('rule_1', [pattern])\n",
        "\n",
        "matches = matcher(doc)\n",
        "matches"
      ],
      "metadata": {
        "colab": {
          "base_uri": "https://localhost:8080/"
        },
        "id": "PaEnrDSDlInw",
        "outputId": "78bbde23-8bb9-49e0-f399-21653ed66f11"
      },
      "execution_count": null,
      "outputs": [
        {
          "output_type": "execute_result",
          "data": {
            "text/plain": [
              "[(7604275899133490726, 6, 8)]"
            ]
          },
          "metadata": {},
          "execution_count": 20
        }
      ]
    },
    {
      "cell_type": "code",
      "source": [
        "# Extract matched text\n",
        "for match_id, start, end in matches:\n",
        "    # Get the matched span\n",
        "    matched_span = doc[start:end]\n",
        "    print(matched_span.text)"
      ],
      "metadata": {
        "colab": {
          "base_uri": "https://localhost:8080/"
        },
        "id": "z9QvPQCDlNBY",
        "outputId": "94251d3d-abcc-405c-c9af-ee4bbed754a4"
      },
      "execution_count": null,
      "outputs": [
        {
          "output_type": "stream",
          "name": "stdout",
          "text": [
            "lemon water\n"
          ]
        }
      ]
    },
    {
      "cell_type": "code",
      "source": [
        "doc1 = nlp(\"Did you read this book?\")\n",
        "doc2 = nlp(\"I will book my tickets\")\n",
        "\n",
        "pattern = [{'TEXT': 'book', 'POS': 'NOUN'}]\n",
        "\n",
        "# Initialize the matcher with the shared vocab\n",
        "matcher = Matcher(nlp.vocab)\n",
        "matcher.add('rule_2', [pattern])"
      ],
      "metadata": {
        "id": "Ki9-XiU8lWSx"
      },
      "execution_count": null,
      "outputs": []
    },
    {
      "cell_type": "code",
      "source": [
        "matches = matcher(doc1)\n",
        "matches"
      ],
      "metadata": {
        "colab": {
          "base_uri": "https://localhost:8080/"
        },
        "id": "R4lwrhtqlXca",
        "outputId": "b946aa5c-22fa-4c23-adc7-942cf3519c96"
      },
      "execution_count": null,
      "outputs": [
        {
          "output_type": "execute_result",
          "data": {
            "text/plain": [
              "[(375134486054924901, 4, 5)]"
            ]
          },
          "metadata": {},
          "execution_count": 23
        }
      ]
    },
    {
      "cell_type": "code",
      "source": [
        "matches = matcher(doc2)\n",
        "matches"
      ],
      "metadata": {
        "colab": {
          "base_uri": "https://localhost:8080/"
        },
        "id": "Fb8sXcBBlcnp",
        "outputId": "9437bf80-2345-4fd4-e22e-471957fa9a68"
      },
      "execution_count": null,
      "outputs": [
        {
          "output_type": "execute_result",
          "data": {
            "text/plain": [
              "[]"
            ]
          },
          "metadata": {},
          "execution_count": 24
        }
      ]
    },
    {
      "cell_type": "markdown",
      "metadata": {
        "id": "VVPuXENMxTVB"
      },
      "source": [
        "## Semantic similarity using word vectors"
      ]
    },
    {
      "cell_type": "markdown",
      "metadata": {
        "id": "EzDzSl8DxTVC"
      },
      "source": [
        "Refer to [spaCy vectors page](https://spacy.io/usage/vectors-similarity) to use other models or custom word vectors.\n"
      ]
    },
    {
      "cell_type": "code",
      "source": [
        "#!python -m spacy download en_core_web_md"
      ],
      "metadata": {
        "id": "5K3riCygUn3U"
      },
      "execution_count": null,
      "outputs": []
    },
    {
      "cell_type": "markdown",
      "source": [
        "-- Example modified from [link](https://spacy.pythonhumanities.com/01_03_word_vectors.html)"
      ],
      "metadata": {
        "id": "utxn2Z4dGgBE"
      }
    },
    {
      "cell_type": "code",
      "source": [
        "import warnings\n",
        "warnings.filterwarnings(\"ignore\")\n",
        "#nlp = spacy.load(\"en_core_web_md\")  \n",
        "doc1 = nlp(\"I like salty fries and hamburgers.\")\n",
        "doc2 = nlp(\"Fast food tastes very good.\")\n",
        "doc3 = nlp(\"Fast shipments are very good.\")\n",
        "\n",
        "# Similarity of these documents\n",
        "print(doc1, \"<->\", doc2, doc1.similarity(doc2))\n",
        "print(doc1, \"<->\", doc3, doc1.similarity(doc3))\n",
        "print(doc2, \"<->\", doc3, doc2.similarity(doc3))"
      ],
      "metadata": {
        "colab": {
          "base_uri": "https://localhost:8080/"
        },
        "id": "IXAddHTkVSSH",
        "outputId": "3adf3f9e-5307-4a8f-e35a-88cda7511b64"
      },
      "execution_count": null,
      "outputs": [
        {
          "output_type": "stream",
          "name": "stdout",
          "text": [
            "I like salty fries and hamburgers. <-> Fast food tastes very good. 0.3679284418194866\n",
            "I like salty fries and hamburgers. <-> Fast shipments are very good. 0.24717503829951157\n",
            "Fast food tastes very good. <-> Fast shipments are very good. 0.7334099402646285\n"
          ]
        }
      ]
    },
    {
      "cell_type": "code",
      "execution_count": null,
      "metadata": {
        "colab": {
          "base_uri": "https://localhost:8080/"
        },
        "id": "sj1LDdXoxTVD",
        "outputId": "7de6046d-851e-4088-cb8d-4343c49b661d"
      },
      "outputs": [
        {
          "output_type": "stream",
          "name": "stdout",
          "text": [
            "dog True 19.378368 True\n",
            "cat True 19.319294 True\n",
            "banana True 17.693539 True\n",
            "wheel True 19.233456 True\n"
          ]
        }
      ],
      "source": [
        "tokens = nlp(u'dog cat banana wheel')\n",
        "\n",
        "for token in tokens:\n",
        "    print(token.text, token.has_vector, token.vector_norm, token.is_oov)"
      ]
    },
    {
      "cell_type": "code",
      "execution_count": null,
      "metadata": {
        "colab": {
          "base_uri": "https://localhost:8080/"
        },
        "id": "ARHgWamMxTVE",
        "outputId": "238eb652-e680-4051-dd0f-6205d1eb728c"
      },
      "outputs": [
        {
          "output_type": "stream",
          "name": "stdout",
          "text": [
            "banana 96 [ 1.5871911   0.8064396  -0.9054165  -0.8100374   0.95870805  1.0146952\n",
            " -1.1023825   1.8020909   2.5353732   2.7387426  -0.43189812 -0.12808043\n",
            "  0.75751686 -0.9152087  -0.15977871 -0.9103936  -2.1560912   1.32443\n",
            " -0.1405558  -0.6373711   4.32754    -0.88028044  0.03564376 -2.9327438\n",
            " -1.0217257   0.731537    2.4963975   1.0742254   1.4460571  -2.6484275\n",
            "  0.5366294  -1.4870604  -0.83379704 -0.4151709  -1.9360238  -1.7089003\n",
            "  3.7156317   0.58594716  0.29604545 -0.7416147   4.061759    2.0177944\n",
            "  0.8102745  -4.117684    0.5899048   0.5998761  -3.1075888  -0.70453393\n",
            " -0.10131472  1.0950371  -1.2231823  -2.9008093   0.37960178  0.2982519\n",
            " -2.3102129   0.20481265  1.7023772   2.2459512  -1.5036099   2.4872742\n",
            "  0.46261945 -1.469563   -1.963779    4.2778063  -0.8498221   0.89605945\n",
            "  0.6714468  -2.0104113   0.18463123  2.7223854  -2.8811326   0.90999866\n",
            " -1.9458306   2.824358   -1.5410196   0.2469359   1.3095249  -1.3957369\n",
            " -0.6296301  -0.50245476  0.8588661  -1.7943428  -4.1018476  -0.74174714\n",
            " -1.5341759   1.6868057   0.59892476 -2.6711385  -1.703895   -0.92804223\n",
            " -0.150774    0.92698467  2.5210652   3.0843406   2.2907717   0.4413057 ]\n"
          ]
        }
      ],
      "source": [
        "n = 2\n",
        "print(tokens[n].text, len(tokens[n].vector), tokens[n].vector)"
      ]
    },
    {
      "cell_type": "markdown",
      "source": [
        "Source : [Github repository](https://github.com/dcavar/python-tutorial-notebooks)"
      ],
      "metadata": {
        "id": "Rp8XAoNjDEdI"
      }
    },
    {
      "cell_type": "markdown",
      "metadata": {
        "id": "5B36R_4hxTVE"
      },
      "source": [
        "Another similarity example for some popular words."
      ]
    },
    {
      "cell_type": "code",
      "execution_count": null,
      "metadata": {
        "colab": {
          "base_uri": "https://localhost:8080/"
        },
        "id": "DX9XrJ3fxTVE",
        "outputId": "3545b0d5-3943-433a-b977-1488ad1c0a79"
      },
      "outputs": [
        {
          "output_type": "stream",
          "name": "stdout",
          "text": [
            "queen queen 1.0\n",
            "queen king 0.57581687\n",
            "queen chef 0.3309688\n",
            "king queen 0.57581687\n",
            "king king 1.0\n",
            "king chef 0.44007176\n",
            "chef queen 0.3309688\n",
            "chef king 0.44007176\n",
            "chef chef 1.0\n"
          ]
        }
      ],
      "source": [
        "tokens = nlp(u'queen king chef')\n",
        "\n",
        "for token1 in tokens:\n",
        "    for token2 in tokens:\n",
        "        print(token1, token2, token1.similarity(token2))"
      ]
    },
    {
      "cell_type": "markdown",
      "metadata": {
        "id": "-SL2oI_TxTVE"
      },
      "source": [
        "### Similarities in Context"
      ]
    },
    {
      "cell_type": "code",
      "execution_count": null,
      "metadata": {
        "colab": {
          "base_uri": "https://localhost:8080/"
        },
        "id": "n9hBicsdxTVE",
        "outputId": "f9697fd6-aa62-44e5-f34f-cc172d71d770"
      },
      "outputs": [
        {
          "output_type": "stream",
          "name": "stdout",
          "text": [
            "labrador True 19.982306 True\n"
          ]
        }
      ],
      "source": [
        "tokens = nlp(u'labrador')\n",
        "\n",
        "for token in tokens:\n",
        "    print(token.text, token.has_vector, token.vector_norm, token.is_oov)"
      ]
    },
    {
      "cell_type": "code",
      "execution_count": null,
      "metadata": {
        "colab": {
          "base_uri": "https://localhost:8080/"
        },
        "id": "O-TcH63-xTVE",
        "outputId": "70a09210-1c26-4314-e9a0-7f7f8499d130"
      },
      "outputs": [
        {
          "output_type": "stream",
          "name": "stdout",
          "text": [
            "1: 0.17863217662087344\n",
            "2: 0.2774142819743359\n",
            "3: 0.1853336600408966\n"
          ]
        }
      ],
      "source": [
        "doc1 = nlp(u\"The labrador barked.\")\n",
        "doc2 = nlp(u\"The labrador swam.\")\n",
        "doc3 = nlp(u\"The people on Labrador are Canadians.\")\n",
        "\n",
        "dog = nlp(u\"dog\")\n",
        "\n",
        "count = 0\n",
        "for doc in [doc1, doc2, doc3]:\n",
        "    lab = doc\n",
        "    count += 1\n",
        "    print(str(count) + \":\", lab.similarity(dog))"
      ]
    },
    {
      "cell_type": "code",
      "execution_count": null,
      "metadata": {
        "colab": {
          "base_uri": "https://localhost:8080/"
        },
        "id": "KRJiwiD4xTVF",
        "outputId": "8d54700f-f9d4-4550-9799-694c32706007"
      },
      "outputs": [
        {
          "output_type": "stream",
          "name": "stdout",
          "text": [
            "\"dog bites man\" \"dog bites man\" 1.0\n",
            "\"dog bites man\" \"man bites dog\" 0.9454270050051115\n",
            "\"dog bites man\" \"man dog bites\" 0.8925287164710086\n",
            "\"dog bites man\" \"cat eats mouse\" 0.6138338938504083\n",
            "\"man bites dog\" \"dog bites man\" 0.9454270050051115\n",
            "\"man bites dog\" \"man bites dog\" 1.0\n",
            "\"man bites dog\" \"man dog bites\" 0.8896486160263385\n",
            "\"man bites dog\" \"cat eats mouse\" 0.673638000133504\n",
            "\"man dog bites\" \"dog bites man\" 0.8925287164710086\n",
            "\"man dog bites\" \"man bites dog\" 0.8896486160263385\n",
            "\"man dog bites\" \"man dog bites\" 1.0\n",
            "\"man dog bites\" \"cat eats mouse\" 0.551124818246088\n",
            "\"cat eats mouse\" \"dog bites man\" 0.6138338938504083\n",
            "\"cat eats mouse\" \"man bites dog\" 0.673638000133504\n",
            "\"cat eats mouse\" \"man dog bites\" 0.551124818246088\n",
            "\"cat eats mouse\" \"cat eats mouse\" 1.0\n"
          ]
        }
      ],
      "source": [
        "docs = [nlp(u\"dog bites man\"), nlp(u\"man bites dog\"),\n",
        "        nlp(u\"man dog bites\"), nlp(u\"cat eats mouse\")]\n",
        "\n",
        "for doc in docs:\n",
        "    for other_doc in docs:\n",
        "        print('\"' + doc.text + '\"', '\"' + other_doc.text + '\"', doc.similarity(other_doc))"
      ]
    },
    {
      "cell_type": "markdown",
      "metadata": {
        "id": "oRCZchglxTVF"
      },
      "source": [
        "## Training"
      ]
    },
    {
      "cell_type": "markdown",
      "metadata": {
        "id": "901_2baMxTVG"
      },
      "source": [
        "-- Modified from [blog](https://www.machinelearningplus.com/nlp/training-custom-ner-model-in-spacy/)"
      ]
    },
    {
      "cell_type": "markdown",
      "metadata": {
        "id": "P_GZF5ENxTVJ"
      },
      "source": [
        "An example code for training an NER model."
      ]
    },
    {
      "cell_type": "code",
      "execution_count": null,
      "metadata": {
        "id": "OwACbb3kxTVG"
      },
      "outputs": [],
      "source": [
        "#nlp = spacy.load('en_core_web_md')"
      ]
    },
    {
      "cell_type": "code",
      "execution_count": null,
      "metadata": {
        "id": "g5nAU3qExTVJ"
      },
      "outputs": [],
      "source": [
        "from spacy.util import minibatch, compounding\n",
        "from pathlib import Path\n",
        "import random"
      ]
    },
    {
      "cell_type": "code",
      "metadata": {
        "id": "jKPneHuWBWC-"
      },
      "source": [
        "# Load pre-existing spacy model\n",
        "nlp=spacy.load('en_core_web_sm')\n",
        "\n",
        "# Getting the pipeline component\n",
        "ner=nlp.get_pipe(\"ner\")"
      ],
      "execution_count": null,
      "outputs": []
    },
    {
      "cell_type": "markdown",
      "metadata": {
        "id": "fBUt1YEhxTVJ"
      },
      "source": [
        "The training data format!"
      ]
    },
    {
      "cell_type": "code",
      "metadata": {
        "id": "2EldDy4zBc_i"
      },
      "source": [
        "# training data\n",
        "TRAIN_DATA = [\n",
        "              (\"Walmart is a leading e-commerce company\", {\"entities\": [(0, 7, \"ORG\")]}),\n",
        "              (\"I reached Chennai yesterday.\", {\"entities\": [(19, 28, \"GPE\")]}),\n",
        "              (\"I recently ordered a book from Amazon\", {\"entities\": [(24,32, \"ORG\")]}),\n",
        "              (\"I was driving a BMW\", {\"entities\": [(16,19, \"PRODUCT\")]}),\n",
        "              (\"I ordered this from ShopClues\", {\"entities\": [(20,29, \"ORG\")]}),\n",
        "              (\"Fridge can be ordered in Amazon \", {\"entities\": [(0,6, \"PRODUCT\")]}),\n",
        "              (\"I bought a new Washer\", {\"entities\": [(16,22, \"PRODUCT\")]}),\n",
        "              (\"I bought a old table\", {\"entities\": [(16,21, \"PRODUCT\")]}),\n",
        "              (\"I bought a fancy dress\", {\"entities\": [(18,23, \"PRODUCT\")]}),\n",
        "              (\"I rented a camera\", {\"entities\": [(12,18, \"PRODUCT\")]}),\n",
        "              (\"I rented a tent for our trip\", {\"entities\": [(12,16, \"PRODUCT\")]}),\n",
        "              (\"I rented a screwdriver from our neighbour\", {\"entities\": [(12,22, \"PRODUCT\")]}),\n",
        "              (\"I repaired my computer\", {\"entities\": [(15,23, \"PRODUCT\")]}),\n",
        "              (\"I got my clock fixed\", {\"entities\": [(16,21, \"PRODUCT\")]}),\n",
        "              (\"I got my truck fixed\", {\"entities\": [(16,21, \"PRODUCT\")]}),\n",
        "              (\"Flipkart started it's journey from zero\", {\"entities\": [(0,8, \"ORG\")]}),\n",
        "              (\"I recently ordered from Max\", {\"entities\": [(24,27, \"ORG\")]}),\n",
        "              (\"Flipkart is recognized as leader in market\",{\"entities\": [(0,8, \"ORG\")]}),\n",
        "              (\"I recently ordered from Swiggy\", {\"entities\": [(24,30, \"ORG\")]})\n",
        "              ]"
      ],
      "execution_count": null,
      "outputs": []
    },
    {
      "cell_type": "code",
      "metadata": {
        "id": "EuOAETRTBfRL"
      },
      "source": [
        "# Adding labels to the `ner`\n",
        "for _, annotations in TRAIN_DATA:\n",
        "  for ent in annotations.get(\"entities\"):\n",
        "    ner.add_label(ent[2])"
      ],
      "execution_count": null,
      "outputs": []
    },
    {
      "cell_type": "code",
      "metadata": {
        "id": "BxUqWc7fBgsL"
      },
      "source": [
        "# Disable pipeline components you dont need to change\n",
        "pipe_exceptions = [\"ner\", \"trf_wordpiecer\", \"trf_tok2vec\"]\n",
        "unaffected_pipes = [pipe for pipe in nlp.pipe_names if pipe not in pipe_exceptions]\n",
        "other_pipes = [pipe for pipe in nlp.pipe_names if pipe not in pipe_exceptions]"
      ],
      "execution_count": null,
      "outputs": []
    },
    {
      "cell_type": "code",
      "source": [
        "with nlp.disable_pipes(*other_pipes):  # only train NER\n",
        "    for itn in range(30):\n",
        "        random.shuffle(TRAIN_DATA)\n",
        "        losses = {}\n",
        "        # batch up the examples using spaCy's minibatch\n",
        "        batches = minibatch(TRAIN_DATA, size=compounding(4.0, 32.0, 1.001))\n",
        "        for batch in batches:\n",
        "            texts, annotations = zip(*batch)\n",
        "            nlp.update(\n",
        "                texts,  # batch of texts\n",
        "                annotations,  # batch of annotations\n",
        "                drop=0.5,  # dropout - make it harder to memorise data\n",
        "                losses=losses,\n",
        "            )\n",
        "        print(\"Losses\", losses)"
      ],
      "metadata": {
        "colab": {
          "base_uri": "https://localhost:8080/"
        },
        "id": "00zvgU1jRerq",
        "outputId": "26215f08-880e-4608-e3f3-4ccac899effb"
      },
      "execution_count": null,
      "outputs": [
        {
          "output_type": "stream",
          "name": "stdout",
          "text": [
            "Losses {'ner': 22.663299785570416}\n",
            "Losses {'ner': 14.440529714026898}\n",
            "Losses {'ner': 9.59392978363121}\n",
            "Losses {'ner': 11.639361066964739}\n",
            "Losses {'ner': 9.861955335195717}\n",
            "Losses {'ner': 14.151953438622172}\n",
            "Losses {'ner': 9.477473568335427}\n",
            "Losses {'ner': 4.9097686585745866}\n",
            "Losses {'ner': 7.46763817722092}\n",
            "Losses {'ner': 5.5857929075102675}\n",
            "Losses {'ner': 12.023708899357182}\n",
            "Losses {'ner': 5.246545431490119}\n",
            "Losses {'ner': 7.607580455684229}\n",
            "Losses {'ner': 5.9596031884685665}\n",
            "Losses {'ner': 4.6183865842090785}\n",
            "Losses {'ner': 5.320895846318014}\n",
            "Losses {'ner': 6.269039736386078}\n",
            "Losses {'ner': 6.555036921551676}\n",
            "Losses {'ner': 3.8680488195167264}\n",
            "Losses {'ner': 3.049194141960027}\n",
            "Losses {'ner': 0.8021311926923247}\n",
            "Losses {'ner': 4.838221342640789}\n",
            "Losses {'ner': 0.8188255526324171}\n",
            "Losses {'ner': 2.6246900092201635}\n",
            "Losses {'ner': 0.19894797566828917}\n",
            "Losses {'ner': 3.477537053434245}\n",
            "Losses {'ner': 0.23884249474980895}\n",
            "Losses {'ner': 3.7102385171306205}\n",
            "Losses {'ner': 0.3729898597010768}\n",
            "Losses {'ner': 1.916065907197498}\n"
          ]
        }
      ]
    },
    {
      "cell_type": "code",
      "metadata": {
        "id": "qr5Qby39DvyL"
      },
      "source": [
        "output_dir = Path(\"./models/\")"
      ],
      "execution_count": null,
      "outputs": []
    },
    {
      "cell_type": "code",
      "metadata": {
        "id": "nWd8p7ohDyUE"
      },
      "source": [
        "if not output_dir.exists():\n",
        "    output_dir.mkdir()\n",
        "nlp.to_disk(output_dir)"
      ],
      "execution_count": null,
      "outputs": []
    },
    {
      "cell_type": "code",
      "metadata": {
        "id": "UfBYeb0UDgbC"
      },
      "source": [
        "nlp2 = spacy.load(output_dir)"
      ],
      "execution_count": null,
      "outputs": []
    },
    {
      "cell_type": "code",
      "metadata": {
        "colab": {
          "base_uri": "https://localhost:8080/"
        },
        "id": "RsYiavzbDjXI",
        "outputId": "648e77e2-f007-4386-802e-99cb1f52123c"
      },
      "source": [
        "# Testing the model\n",
        "doc = nlp2(\"I was driving a Alto\")\n",
        "print(\"Entities\", [(ent.text, ent.label_) for ent in doc.ents])"
      ],
      "execution_count": null,
      "outputs": [
        {
          "output_type": "stream",
          "name": "stdout",
          "text": [
            "Entities [('Alto', 'PRODUCT')]\n"
          ]
        }
      ]
    },
    {
      "cell_type": "code",
      "source": [
        "test_data = \"Apple is looking at buying U.K. startup for $1 billion!\"\n",
        "doc = nlp2(test_data)\n",
        "print(\"Entities\", [(ent.text, ent.label_) for ent in doc.ents])\n",
        "print(\"Tokens\", [(t.text, t.ent_type_, t.ent_iob_) for t in doc])"
      ],
      "metadata": {
        "colab": {
          "base_uri": "https://localhost:8080/"
        },
        "id": "k8Ra0X8t-3WZ",
        "outputId": "b3c208ee-ba5b-4840-88a1-2290f5e3645a"
      },
      "execution_count": null,
      "outputs": [
        {
          "output_type": "stream",
          "name": "stdout",
          "text": [
            "Entities [('Apple', 'ORG'), ('U.K.', 'ORG'), ('$1 billion', 'MONEY')]\n",
            "Tokens [('Apple', 'ORG', 'B'), ('is', '', 'O'), ('looking', '', 'O'), ('at', '', 'O'), ('buying', '', 'O'), ('U.K.', 'ORG', 'B'), ('startup', '', 'O'), ('for', '', 'O'), ('$', 'MONEY', 'B'), ('1', 'MONEY', 'I'), ('billion', 'MONEY', 'I'), ('!', '', 'O')]\n"
          ]
        }
      ]
    },
    {
      "cell_type": "markdown",
      "source": [
        "## spaCyTextBlob"
      ],
      "metadata": {
        "id": "QC-8J8jllDqG"
      }
    },
    {
      "cell_type": "code",
      "source": [
        "!pip install spacytextblob"
      ],
      "metadata": {
        "colab": {
          "base_uri": "https://localhost:8080/"
        },
        "outputId": "7f8ca132-bb60-469a-e953-ddd9e0f95f29",
        "id": "8QPwvNmVlDqH"
      },
      "execution_count": null,
      "outputs": [
        {
          "output_type": "stream",
          "name": "stdout",
          "text": [
            "Requirement already satisfied: spacytextblob in /usr/local/lib/python3.7/dist-packages (3.0.1)\n",
            "Requirement already satisfied: textblob<0.16.0,>=0.15.3 in /usr/local/lib/python3.7/dist-packages (from spacytextblob) (0.15.3)\n",
            "Requirement already satisfied: spacy<4.0,>=3.0 in /usr/local/lib/python3.7/dist-packages (from spacytextblob) (3.2.1)\n",
            "Requirement already satisfied: srsly<3.0.0,>=2.4.1 in /usr/local/lib/python3.7/dist-packages (from spacy<4.0,>=3.0->spacytextblob) (2.4.2)\n",
            "Requirement already satisfied: typer<0.5.0,>=0.3.0 in /usr/local/lib/python3.7/dist-packages (from spacy<4.0,>=3.0->spacytextblob) (0.4.0)\n",
            "Requirement already satisfied: langcodes<4.0.0,>=3.2.0 in /usr/local/lib/python3.7/dist-packages (from spacy<4.0,>=3.0->spacytextblob) (3.3.0)\n",
            "Requirement already satisfied: thinc<8.1.0,>=8.0.12 in /usr/local/lib/python3.7/dist-packages (from spacy<4.0,>=3.0->spacytextblob) (8.0.13)\n",
            "Requirement already satisfied: wasabi<1.1.0,>=0.8.1 in /usr/local/lib/python3.7/dist-packages (from spacy<4.0,>=3.0->spacytextblob) (0.8.2)\n",
            "Requirement already satisfied: tqdm<5.0.0,>=4.38.0 in /usr/local/lib/python3.7/dist-packages (from spacy<4.0,>=3.0->spacytextblob) (4.62.3)\n",
            "Requirement already satisfied: preshed<3.1.0,>=3.0.2 in /usr/local/lib/python3.7/dist-packages (from spacy<4.0,>=3.0->spacytextblob) (3.0.6)\n",
            "Requirement already satisfied: packaging>=20.0 in /usr/local/lib/python3.7/dist-packages (from spacy<4.0,>=3.0->spacytextblob) (21.3)\n",
            "Requirement already satisfied: catalogue<2.1.0,>=2.0.6 in /usr/local/lib/python3.7/dist-packages (from spacy<4.0,>=3.0->spacytextblob) (2.0.6)\n",
            "Requirement already satisfied: pathy>=0.3.5 in /usr/local/lib/python3.7/dist-packages (from spacy<4.0,>=3.0->spacytextblob) (0.6.1)\n",
            "Requirement already satisfied: jinja2 in /usr/local/lib/python3.7/dist-packages (from spacy<4.0,>=3.0->spacytextblob) (2.11.3)\n",
            "Requirement already satisfied: pydantic!=1.8,!=1.8.1,<1.9.0,>=1.7.4 in /usr/local/lib/python3.7/dist-packages (from spacy<4.0,>=3.0->spacytextblob) (1.8.2)\n",
            "Requirement already satisfied: murmurhash<1.1.0,>=0.28.0 in /usr/local/lib/python3.7/dist-packages (from spacy<4.0,>=3.0->spacytextblob) (1.0.6)\n",
            "Requirement already satisfied: cymem<2.1.0,>=2.0.2 in /usr/local/lib/python3.7/dist-packages (from spacy<4.0,>=3.0->spacytextblob) (2.0.6)\n",
            "Requirement already satisfied: typing-extensions<4.0.0.0,>=3.7.4 in /usr/local/lib/python3.7/dist-packages (from spacy<4.0,>=3.0->spacytextblob) (3.10.0.2)\n",
            "Requirement already satisfied: spacy-loggers<2.0.0,>=1.0.0 in /usr/local/lib/python3.7/dist-packages (from spacy<4.0,>=3.0->spacytextblob) (1.0.1)\n",
            "Requirement already satisfied: spacy-legacy<3.1.0,>=3.0.8 in /usr/local/lib/python3.7/dist-packages (from spacy<4.0,>=3.0->spacytextblob) (3.0.8)\n",
            "Requirement already satisfied: numpy>=1.15.0 in /usr/local/lib/python3.7/dist-packages (from spacy<4.0,>=3.0->spacytextblob) (1.19.5)\n",
            "Requirement already satisfied: setuptools in /usr/local/lib/python3.7/dist-packages (from spacy<4.0,>=3.0->spacytextblob) (57.4.0)\n",
            "Requirement already satisfied: blis<0.8.0,>=0.4.0 in /usr/local/lib/python3.7/dist-packages (from spacy<4.0,>=3.0->spacytextblob) (0.4.1)\n",
            "Requirement already satisfied: requests<3.0.0,>=2.13.0 in /usr/local/lib/python3.7/dist-packages (from spacy<4.0,>=3.0->spacytextblob) (2.23.0)\n",
            "Requirement already satisfied: zipp>=0.5 in /usr/local/lib/python3.7/dist-packages (from catalogue<2.1.0,>=2.0.6->spacy<4.0,>=3.0->spacytextblob) (3.6.0)\n",
            "Requirement already satisfied: pyparsing!=3.0.5,>=2.0.2 in /usr/local/lib/python3.7/dist-packages (from packaging>=20.0->spacy<4.0,>=3.0->spacytextblob) (3.0.6)\n",
            "Requirement already satisfied: smart-open<6.0.0,>=5.0.0 in /usr/local/lib/python3.7/dist-packages (from pathy>=0.3.5->spacy<4.0,>=3.0->spacytextblob) (5.2.1)\n",
            "Requirement already satisfied: urllib3!=1.25.0,!=1.25.1,<1.26,>=1.21.1 in /usr/local/lib/python3.7/dist-packages (from requests<3.0.0,>=2.13.0->spacy<4.0,>=3.0->spacytextblob) (1.24.3)\n",
            "Requirement already satisfied: idna<3,>=2.5 in /usr/local/lib/python3.7/dist-packages (from requests<3.0.0,>=2.13.0->spacy<4.0,>=3.0->spacytextblob) (2.10)\n",
            "Requirement already satisfied: certifi>=2017.4.17 in /usr/local/lib/python3.7/dist-packages (from requests<3.0.0,>=2.13.0->spacy<4.0,>=3.0->spacytextblob) (2021.10.8)\n",
            "Requirement already satisfied: chardet<4,>=3.0.2 in /usr/local/lib/python3.7/dist-packages (from requests<3.0.0,>=2.13.0->spacy<4.0,>=3.0->spacytextblob) (3.0.4)\n",
            "Requirement already satisfied: nltk>=3.1 in /usr/local/lib/python3.7/dist-packages (from textblob<0.16.0,>=0.15.3->spacytextblob) (3.2.5)\n",
            "Requirement already satisfied: six in /usr/local/lib/python3.7/dist-packages (from nltk>=3.1->textblob<0.16.0,>=0.15.3->spacytextblob) (1.15.0)\n",
            "Requirement already satisfied: click<9.0.0,>=7.1.1 in /usr/local/lib/python3.7/dist-packages (from typer<0.5.0,>=0.3.0->spacy<4.0,>=3.0->spacytextblob) (7.1.2)\n",
            "Requirement already satisfied: MarkupSafe>=0.23 in /usr/local/lib/python3.7/dist-packages (from jinja2->spacy<4.0,>=3.0->spacytextblob) (2.0.1)\n"
          ]
        }
      ]
    },
    {
      "cell_type": "code",
      "source": [
        "import spacy\n",
        "from spacytextblob.spacytextblob import SpacyTextBlob"
      ],
      "metadata": {
        "id": "0nvsu1-Gjr7A"
      },
      "execution_count": null,
      "outputs": []
    },
    {
      "cell_type": "code",
      "source": [
        "!python -m spacy download en_core_web_sm"
      ],
      "metadata": {
        "colab": {
          "base_uri": "https://localhost:8080/"
        },
        "id": "K-kKHsjTjvIC",
        "outputId": "2a526f7a-b8db-429d-ed82-a3d882c1609e"
      },
      "execution_count": null,
      "outputs": [
        {
          "output_type": "stream",
          "name": "stdout",
          "text": [
            "Collecting en-core-web-sm==3.2.0\n",
            "  Downloading https://github.com/explosion/spacy-models/releases/download/en_core_web_sm-3.2.0/en_core_web_sm-3.2.0-py3-none-any.whl (13.9 MB)\n",
            "\u001b[K     |████████████████████████████████| 13.9 MB 1.6 MB/s \n",
            "\u001b[?25hRequirement already satisfied: spacy<3.3.0,>=3.2.0 in /usr/local/lib/python3.7/dist-packages (from en-core-web-sm==3.2.0) (3.2.1)\n",
            "Requirement already satisfied: typing-extensions<4.0.0.0,>=3.7.4 in /usr/local/lib/python3.7/dist-packages (from spacy<3.3.0,>=3.2.0->en-core-web-sm==3.2.0) (3.10.0.2)\n",
            "Requirement already satisfied: preshed<3.1.0,>=3.0.2 in /usr/local/lib/python3.7/dist-packages (from spacy<3.3.0,>=3.2.0->en-core-web-sm==3.2.0) (3.0.6)\n",
            "Requirement already satisfied: spacy-legacy<3.1.0,>=3.0.8 in /usr/local/lib/python3.7/dist-packages (from spacy<3.3.0,>=3.2.0->en-core-web-sm==3.2.0) (3.0.8)\n",
            "Requirement already satisfied: setuptools in /usr/local/lib/python3.7/dist-packages (from spacy<3.3.0,>=3.2.0->en-core-web-sm==3.2.0) (57.4.0)\n",
            "Requirement already satisfied: numpy>=1.15.0 in /usr/local/lib/python3.7/dist-packages (from spacy<3.3.0,>=3.2.0->en-core-web-sm==3.2.0) (1.19.5)\n",
            "Requirement already satisfied: pathy>=0.3.5 in /usr/local/lib/python3.7/dist-packages (from spacy<3.3.0,>=3.2.0->en-core-web-sm==3.2.0) (0.6.1)\n",
            "Requirement already satisfied: requests<3.0.0,>=2.13.0 in /usr/local/lib/python3.7/dist-packages (from spacy<3.3.0,>=3.2.0->en-core-web-sm==3.2.0) (2.23.0)\n",
            "Requirement already satisfied: langcodes<4.0.0,>=3.2.0 in /usr/local/lib/python3.7/dist-packages (from spacy<3.3.0,>=3.2.0->en-core-web-sm==3.2.0) (3.3.0)\n",
            "Requirement already satisfied: blis<0.8.0,>=0.4.0 in /usr/local/lib/python3.7/dist-packages (from spacy<3.3.0,>=3.2.0->en-core-web-sm==3.2.0) (0.4.1)\n",
            "Requirement already satisfied: srsly<3.0.0,>=2.4.1 in /usr/local/lib/python3.7/dist-packages (from spacy<3.3.0,>=3.2.0->en-core-web-sm==3.2.0) (2.4.2)\n",
            "Requirement already satisfied: pydantic!=1.8,!=1.8.1,<1.9.0,>=1.7.4 in /usr/local/lib/python3.7/dist-packages (from spacy<3.3.0,>=3.2.0->en-core-web-sm==3.2.0) (1.8.2)\n",
            "Requirement already satisfied: catalogue<2.1.0,>=2.0.6 in /usr/local/lib/python3.7/dist-packages (from spacy<3.3.0,>=3.2.0->en-core-web-sm==3.2.0) (2.0.6)\n",
            "Requirement already satisfied: packaging>=20.0 in /usr/local/lib/python3.7/dist-packages (from spacy<3.3.0,>=3.2.0->en-core-web-sm==3.2.0) (21.3)\n",
            "Requirement already satisfied: murmurhash<1.1.0,>=0.28.0 in /usr/local/lib/python3.7/dist-packages (from spacy<3.3.0,>=3.2.0->en-core-web-sm==3.2.0) (1.0.6)\n",
            "Requirement already satisfied: cymem<2.1.0,>=2.0.2 in /usr/local/lib/python3.7/dist-packages (from spacy<3.3.0,>=3.2.0->en-core-web-sm==3.2.0) (2.0.6)\n",
            "Requirement already satisfied: typer<0.5.0,>=0.3.0 in /usr/local/lib/python3.7/dist-packages (from spacy<3.3.0,>=3.2.0->en-core-web-sm==3.2.0) (0.4.0)\n",
            "Requirement already satisfied: wasabi<1.1.0,>=0.8.1 in /usr/local/lib/python3.7/dist-packages (from spacy<3.3.0,>=3.2.0->en-core-web-sm==3.2.0) (0.8.2)\n",
            "Requirement already satisfied: tqdm<5.0.0,>=4.38.0 in /usr/local/lib/python3.7/dist-packages (from spacy<3.3.0,>=3.2.0->en-core-web-sm==3.2.0) (4.62.3)\n",
            "Requirement already satisfied: thinc<8.1.0,>=8.0.12 in /usr/local/lib/python3.7/dist-packages (from spacy<3.3.0,>=3.2.0->en-core-web-sm==3.2.0) (8.0.13)\n",
            "Requirement already satisfied: jinja2 in /usr/local/lib/python3.7/dist-packages (from spacy<3.3.0,>=3.2.0->en-core-web-sm==3.2.0) (2.11.3)\n",
            "Requirement already satisfied: spacy-loggers<2.0.0,>=1.0.0 in /usr/local/lib/python3.7/dist-packages (from spacy<3.3.0,>=3.2.0->en-core-web-sm==3.2.0) (1.0.1)\n",
            "Requirement already satisfied: zipp>=0.5 in /usr/local/lib/python3.7/dist-packages (from catalogue<2.1.0,>=2.0.6->spacy<3.3.0,>=3.2.0->en-core-web-sm==3.2.0) (3.6.0)\n",
            "Requirement already satisfied: pyparsing!=3.0.5,>=2.0.2 in /usr/local/lib/python3.7/dist-packages (from packaging>=20.0->spacy<3.3.0,>=3.2.0->en-core-web-sm==3.2.0) (3.0.6)\n",
            "Requirement already satisfied: smart-open<6.0.0,>=5.0.0 in /usr/local/lib/python3.7/dist-packages (from pathy>=0.3.5->spacy<3.3.0,>=3.2.0->en-core-web-sm==3.2.0) (5.2.1)\n",
            "Requirement already satisfied: idna<3,>=2.5 in /usr/local/lib/python3.7/dist-packages (from requests<3.0.0,>=2.13.0->spacy<3.3.0,>=3.2.0->en-core-web-sm==3.2.0) (2.10)\n",
            "Requirement already satisfied: chardet<4,>=3.0.2 in /usr/local/lib/python3.7/dist-packages (from requests<3.0.0,>=2.13.0->spacy<3.3.0,>=3.2.0->en-core-web-sm==3.2.0) (3.0.4)\n",
            "Requirement already satisfied: certifi>=2017.4.17 in /usr/local/lib/python3.7/dist-packages (from requests<3.0.0,>=2.13.0->spacy<3.3.0,>=3.2.0->en-core-web-sm==3.2.0) (2021.10.8)\n",
            "Requirement already satisfied: urllib3!=1.25.0,!=1.25.1,<1.26,>=1.21.1 in /usr/local/lib/python3.7/dist-packages (from requests<3.0.0,>=2.13.0->spacy<3.3.0,>=3.2.0->en-core-web-sm==3.2.0) (1.24.3)\n",
            "Requirement already satisfied: click<9.0.0,>=7.1.1 in /usr/local/lib/python3.7/dist-packages (from typer<0.5.0,>=0.3.0->spacy<3.3.0,>=3.2.0->en-core-web-sm==3.2.0) (7.1.2)\n",
            "Requirement already satisfied: MarkupSafe>=0.23 in /usr/local/lib/python3.7/dist-packages (from jinja2->spacy<3.3.0,>=3.2.0->en-core-web-sm==3.2.0) (2.0.1)\n",
            "Installing collected packages: en-core-web-sm\n",
            "  Attempting uninstall: en-core-web-sm\n",
            "    Found existing installation: en-core-web-sm 2.2.5\n",
            "    Uninstalling en-core-web-sm-2.2.5:\n",
            "      Successfully uninstalled en-core-web-sm-2.2.5\n",
            "Successfully installed en-core-web-sm-3.2.0\n",
            "\u001b[38;5;2m✔ Download and installation successful\u001b[0m\n",
            "You can now load the package via spacy.load('en_core_web_sm')\n"
          ]
        }
      ]
    },
    {
      "cell_type": "markdown",
      "source": [
        "Source : [link](https://spacy.io/universe/project/spacy-textblob)"
      ],
      "metadata": {
        "id": "mEGnkpIeHzR5"
      }
    },
    {
      "cell_type": "code",
      "source": [
        "nlp = spacy.load('en_core_web_sm')\n",
        "nlp.add_pipe('spacytextblob')\n",
        "text = 'I had a really horrible day. It was the worst day ever! But every now and then I have a really good day that makes me happy.'\n",
        "doc = nlp(text)\n",
        "print('Polarity:', doc._.polarity) \n",
        "print('Subjectivity:', doc._.subjectivity) "
      ],
      "metadata": {
        "colab": {
          "base_uri": "https://localhost:8080/"
        },
        "outputId": "b40c2dd1-425b-42c7-fff9-681cf25ef98a",
        "id": "5nZuFKeslDqI"
      },
      "execution_count": null,
      "outputs": [
        {
          "output_type": "stream",
          "name": "stdout",
          "text": [
            "Polarity: -0.125\n",
            "Subjectivity: 0.9\n"
          ]
        }
      ]
    },
    {
      "cell_type": "code",
      "source": [
        "transcript_text_b = [\"OK, it's – it’s a problem we have to work on. \",\n",
        "                     \"[Mumbled sound of assent]. Can you read it?\",\n",
        "                     \"The product in front of you.\",                   \n",
        "                     \"Right.\"\n",
        "                     \"It seems like it.\",\n",
        "                     \"And maybe you could – Maybe there’s like a little optical thingy here, and you sort of run it along an edge?\",\n",
        "                     \"Or the whole thing is a scanner thing.\"]"
      ],
      "metadata": {
        "id": "yv0jmcMilDqJ"
      },
      "execution_count": null,
      "outputs": []
    },
    {
      "cell_type": "code",
      "source": [
        "import wordcloud\n",
        "import re\n",
        "from wordcloud import WordCloud\n",
        "wc = WordCloud(width=800,height=400).generate(re.sub(r\"\\s+\",\" \", transcript_text_b[4]))\n",
        "wc.to_image()"
      ],
      "metadata": {
        "colab": {
          "base_uri": "https://localhost:8080/",
          "height": 417
        },
        "outputId": "ce66ecf4-96e7-4298-d70b-8ed853013b42",
        "id": "ClL8ZiKGlDqJ"
      },
      "execution_count": null,
      "outputs": [
        {
          "output_type": "execute_result",
          "data": {
            "image/png": "[encoded data removed]",
            "text/plain": [
              "<PIL.Image.Image image mode=RGB size=800x400 at 0x7FC7CFEEDF50>"
            ]
          },
          "metadata": {},
          "execution_count": 7
        }
      ]
    },
    {
      "cell_type": "code",
      "source": [
        "doc_transcript_b = list(nlp.pipe(transcript_text_b))\n",
        "doc_transcript_b"
      ],
      "metadata": {
        "colab": {
          "base_uri": "https://localhost:8080/"
        },
        "outputId": "b2631a5a-0b84-438f-8ade-7faace15e251",
        "id": "DchjslaklDqK"
      },
      "execution_count": null,
      "outputs": [
        {
          "output_type": "execute_result",
          "data": {
            "text/plain": [
              "[OK, it's – it’s a problem we have to work on. ,\n",
              " [Mumbled sound of assent]. Can you read it?,\n",
              " The product in front of you.,\n",
              " Right.It seems like it.,\n",
              " And maybe you could – Maybe there’s like a little optical thingy here, and you sort of run it along an edge?,\n",
              " Or the whole thing is a scanner thing.]"
            ]
          },
          "metadata": {},
          "execution_count": 8
        }
      ]
    },
    {
      "cell_type": "code",
      "source": [
        "for doc in doc_transcript_b:\n",
        "  print('=' * 64)\n",
        "  print(doc.text)\n",
        "  print('Polarity:', doc._.polarity)\n",
        "  print('Sujectivity:', doc._.subjectivity)\n",
        "  print('Assessments:', doc._.assessments)"
      ],
      "metadata": {
        "colab": {
          "base_uri": "https://localhost:8080/"
        },
        "outputId": "aac0f397-ebc1-49f9-924e-5b08b4e94848",
        "id": "jYRfgk-8lDqK"
      },
      "execution_count": null,
      "outputs": [
        {
          "output_type": "stream",
          "name": "stdout",
          "text": [
            "================================================================\n",
            "OK, it's – it’s a problem we have to work on. \n",
            "Polarity: 0.5\n",
            "Sujectivity: 0.5\n",
            "Assessments: [(['ok'], 0.5, 0.5, None)]\n",
            "================================================================\n",
            "[Mumbled sound of assent]. Can you read it?\n",
            "Polarity: 0.4\n",
            "Sujectivity: 0.4\n",
            "Assessments: [(['sound'], 0.4, 0.4, None)]\n",
            "================================================================\n",
            "The product in front of you.\n",
            "Polarity: 0.0\n",
            "Sujectivity: 0.0\n",
            "Assessments: []\n",
            "================================================================\n",
            "Right.It seems like it.\n",
            "Polarity: 0.0\n",
            "Sujectivity: 0.0\n",
            "Assessments: []\n",
            "================================================================\n",
            "And maybe you could – Maybe there’s like a little optical thingy here, and you sort of run it along an edge?\n",
            "Polarity: -0.1875\n",
            "Sujectivity: 0.5\n",
            "Assessments: [(['little'], -0.1875, 0.5, None)]\n",
            "================================================================\n",
            "Or the whole thing is a scanner thing.\n",
            "Polarity: 0.2\n",
            "Sujectivity: 0.4\n",
            "Assessments: [(['whole'], 0.2, 0.4, None)]\n"
          ]
        }
      ]
    },
    {
      "cell_type": "markdown",
      "metadata": {
        "id": "xA2iHbzkxTUu"
      },
      "source": [
        "## References \n",
        "\n",
        "* https://spacy.io/\n",
        "* [GitHub repo](https://github.com/dcavar/python-tutorial-for-ipython).\n",
        "*   https://spacy.pythonhumanities.com/intro.html\n",
        "*   https://www.analyticsvidhya.com/blog/2020/03/spacy-tutorial-learn-natural-language-processing/\n",
        "*   https://www.machinelearningplus.com/nlp/training-custom-ner-model-in-spacy/\n",
        "*   https://spacy.io/universe/project/spacy-textblob\n",
        "\n",
        "\n",
        "\n"
      ]
    },
    {
      "cell_type": "code",
      "source": [
        ""
      ],
      "metadata": {
        "id": "l_8zHt0HQQqq"
      },
      "execution_count": null,
      "outputs": []
    }
  ],
  "metadata": {
    "kernelspec": {
      "display_name": "Python 3",
      "language": "python",
      "name": "python3"
    },
    "language_info": {
      "codemirror_mode": {
        "name": "ipython",
        "version": 3
      },
      "file_extension": ".py",
      "mimetype": "text/x-python",
      "name": "python",
      "nbconvert_exporter": "python",
      "pygments_lexer": "ipython3",
      "version": "3.9.1"
    },
    "latex_envs": {
      "LaTeX_envs_menu_present": true,
      "autoclose": false,
      "autocomplete": true,
      "bibliofile": "biblio.bib",
      "cite_by": "apalike",
      "current_citInitial": 1,
      "eqLabelWithNumbers": true,
      "eqNumInitial": 1,
      "hotkeys": {
        "equation": "Ctrl-E",
        "itemize": "Ctrl-I"
      },
      "labels_anchors": false,
      "latex_user_defs": false,
      "report_style_numbering": false,
      "user_envs_cfg": false
    },
    "toc": {
      "base_numbering": 1,
      "nav_menu": {},
      "number_sections": false,
      "sideBar": false,
      "skip_h1_title": false,
      "title_cell": "Table of Contents",
      "title_sidebar": "Contents",
      "toc_cell": false,
      "toc_position": {},
      "toc_section_display": false,
      "toc_window_display": false
    },
    "colab": {
      "name": "Working with Text using spaCy.ipynb",
      "provenance": [],
      "collapsed_sections": [],
      "toc_visible": true
    }
  },
  "nbformat": 4,
  "nbformat_minor": 0
}